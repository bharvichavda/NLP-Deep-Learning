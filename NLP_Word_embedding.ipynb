{
  "cells": [
    {
      "cell_type": "markdown",
      "metadata": {
        "id": "eHNf7J680XF-"
      },
      "source": [
        "### Word Embedding Techniques using Embedding Layer in Keras"
      ]
    },
    {
      "cell_type": "code",
      "execution_count": null,
      "metadata": {
        "id": "PEsK0_yl0XGB"
      },
      "outputs": [],
      "source": [
        "### Libraries USed Tensorflow> 2.0  and keras"
      ]
    },
    {
      "cell_type": "code",
      "execution_count": 1,
      "metadata": {
        "colab": {
          "base_uri": "https://localhost:8080/"
        },
        "id": "pslw1Ya90XGC",
        "outputId": "bbb5dc41-fac2-405c-fa7f-b0c65b853a80"
      },
      "outputs": [
        {
          "output_type": "stream",
          "name": "stdout",
          "text": [
            "Collecting tensorflow-gpu\n",
            "  Downloading tensorflow-gpu-2.12.0.tar.gz (2.6 kB)\n",
            "  \u001b[1;31merror\u001b[0m: \u001b[1msubprocess-exited-with-error\u001b[0m\n",
            "  \n",
            "  \u001b[31m×\u001b[0m \u001b[32mpython setup.py egg_info\u001b[0m did not run successfully.\n",
            "  \u001b[31m│\u001b[0m exit code: \u001b[1;36m1\u001b[0m\n",
            "  \u001b[31m╰─>\u001b[0m See above for output.\n",
            "  \n",
            "  \u001b[1;35mnote\u001b[0m: This error originates from a subprocess, and is likely not a problem with pip.\n",
            "  Preparing metadata (setup.py) ... \u001b[?25l\u001b[?25herror\n",
            "\u001b[1;31merror\u001b[0m: \u001b[1mmetadata-generation-failed\u001b[0m\n",
            "\n",
            "\u001b[31m×\u001b[0m Encountered error while generating package metadata.\n",
            "\u001b[31m╰─>\u001b[0m See above for output.\n",
            "\n",
            "\u001b[1;35mnote\u001b[0m: This is an issue with the package mentioned above, not pip.\n",
            "\u001b[1;36mhint\u001b[0m: See above for details.\n"
          ]
        }
      ],
      "source": [
        "!pip install tensorflow-gpu"
      ]
    },
    {
      "cell_type": "code",
      "source": [
        "import tensorflow as tf\n",
        "print(tf.__version__)"
      ],
      "metadata": {
        "colab": {
          "base_uri": "https://localhost:8080/"
        },
        "id": "yZ5hceiMAX7n",
        "outputId": "3d3ac7d3-9cd5-46cd-c1ad-3be901559a57"
      },
      "execution_count": 2,
      "outputs": [
        {
          "output_type": "stream",
          "name": "stdout",
          "text": [
            "2.15.0\n"
          ]
        }
      ]
    },
    {
      "cell_type": "code",
      "execution_count": 3,
      "metadata": {
        "id": "k4nKifUl0XGC"
      },
      "outputs": [],
      "source": [
        "##tensorflow >2.0\n",
        "from tensorflow.keras.preprocessing.text import one_hot"
      ]
    },
    {
      "cell_type": "code",
      "source": [],
      "metadata": {
        "id": "hADTdqZTAUfS"
      },
      "execution_count": null,
      "outputs": []
    },
    {
      "cell_type": "code",
      "execution_count": 4,
      "metadata": {
        "id": "Fu9PuYeu0XGD"
      },
      "outputs": [],
      "source": [
        "### sentences\n",
        "sent=[  'the glass of milk',\n",
        "     'the glass of juice',\n",
        "     'the cup of tea',\n",
        "    'I am a good boy',\n",
        "     'I am a good developer',\n",
        "     'understand the meaning of words',\n",
        "     'your videos are good']"
      ]
    },
    {
      "cell_type": "code",
      "execution_count": 5,
      "metadata": {
        "colab": {
          "base_uri": "https://localhost:8080/"
        },
        "id": "x5d1D3_20XGD",
        "outputId": "a95c12f7-f569-42a6-9c99-50136f5ba3e9"
      },
      "outputs": [
        {
          "output_type": "execute_result",
          "data": {
            "text/plain": [
              "['the glass of milk',\n",
              " 'the glass of juice',\n",
              " 'the cup of tea',\n",
              " 'I am a good boy',\n",
              " 'I am a good developer',\n",
              " 'understand the meaning of words',\n",
              " 'your videos are good']"
            ]
          },
          "metadata": {},
          "execution_count": 5
        }
      ],
      "source": [
        "sent"
      ]
    },
    {
      "cell_type": "code",
      "execution_count": 6,
      "metadata": {
        "id": "tjnXIn3B0XGE"
      },
      "outputs": [],
      "source": [
        "### Vocabulary size\n",
        "voc_size=10000"
      ]
    },
    {
      "cell_type": "markdown",
      "metadata": {
        "id": "-vQOdeKk0XGE"
      },
      "source": [
        "#### One Hot Representation"
      ]
    },
    {
      "cell_type": "code",
      "execution_count": 8,
      "metadata": {
        "colab": {
          "base_uri": "https://localhost:8080/"
        },
        "id": "gojfZpAW0XGE",
        "outputId": "75c04b46-98c7-4544-897d-8ceaaf06fa63"
      },
      "outputs": [
        {
          "output_type": "stream",
          "name": "stdout",
          "text": [
            "[[1810, 2189, 8676, 6707], [1810, 2189, 8676, 5641], [1810, 264, 8676, 3075], [7769, 8288, 5095, 8863, 4351], [7769, 8288, 5095, 8863, 1190], [5821, 1810, 2137, 8676, 2975], [5203, 7522, 7501, 8863]]\n"
          ]
        }
      ],
      "source": [
        "onehot_repr=[one_hot(words,voc_size)for words in sent]\n",
        "print(onehot_repr)"
      ]
    },
    {
      "cell_type": "markdown",
      "source": [
        "Index of these words in the vocablary           \n",
        "the = 1810                                      \n",
        "glass = 2189                                             \n",
        "of = 8676                                         \n",
        "milk = 6707                                     \n",
        "The length of each one hot encoded representation is different"
      ],
      "metadata": {
        "id": "iR42MeJ-YOhw"
      }
    },
    {
      "cell_type": "markdown",
      "metadata": {
        "id": "eYG267x40XGF"
      },
      "source": [
        "### Word Embedding Represntation"
      ]
    },
    {
      "cell_type": "code",
      "execution_count": 9,
      "metadata": {
        "id": "wpqPm0tb0XGF"
      },
      "outputs": [],
      "source": [
        "from tensorflow.keras.layers import Embedding\n",
        "from tensorflow.keras.preprocessing.sequence import pad_sequences\n",
        "from tensorflow.keras.models import Sequential"
      ]
    },
    {
      "cell_type": "code",
      "execution_count": 10,
      "metadata": {
        "id": "Rov3GTM00XGG"
      },
      "outputs": [],
      "source": [
        "import numpy as np"
      ]
    },
    {
      "cell_type": "markdown",
      "source": [
        "Since length is different, we use Padding\n",
        "Padding: All the vectors with will converted to vec of same lengths          \n",
        "Pre-Padding : add 0's before                 \n",
        "Post-Padding: add 0's after                      "
      ],
      "metadata": {
        "id": "MP-iH6irY4Ax"
      }
    },
    {
      "cell_type": "code",
      "execution_count": 11,
      "metadata": {
        "colab": {
          "base_uri": "https://localhost:8080/"
        },
        "id": "8fQLPw6p0XGG",
        "outputId": "3490eb1f-756e-40d5-d2cb-0038073b14fe"
      },
      "outputs": [
        {
          "output_type": "stream",
          "name": "stdout",
          "text": [
            "[[   0    0    0    0 1810 2189 8676 6707]\n",
            " [   0    0    0    0 1810 2189 8676 5641]\n",
            " [   0    0    0    0 1810  264 8676 3075]\n",
            " [   0    0    0 7769 8288 5095 8863 4351]\n",
            " [   0    0    0 7769 8288 5095 8863 1190]\n",
            " [   0    0    0 5821 1810 2137 8676 2975]\n",
            " [   0    0    0    0 5203 7522 7501 8863]]\n"
          ]
        }
      ],
      "source": [
        "## pre padding\n",
        "sent_length=8\n",
        "embedded_docs=pad_sequences(onehot_repr,padding='pre',maxlen=sent_length)\n",
        "print(embedded_docs)"
      ]
    },
    {
      "cell_type": "code",
      "execution_count": 13,
      "metadata": {
        "id": "yjQqBYac0XGG"
      },
      "outputs": [],
      "source": [
        "## 10 feature dimesnions\n",
        "dim=10\n"
      ]
    },
    {
      "cell_type": "code",
      "execution_count": 14,
      "metadata": {
        "id": "ozC-TXrt0XGG"
      },
      "outputs": [],
      "source": [
        "model=Sequential()\n",
        "model.add(Embedding(voc_size,10,input_length=sent_length))\n",
        "model.compile('adam','mse')"
      ]
    },
    {
      "cell_type": "code",
      "execution_count": 15,
      "metadata": {
        "colab": {
          "base_uri": "https://localhost:8080/"
        },
        "id": "tMNvq-Ji0XGH",
        "outputId": "389a4697-32fc-44e5-e65e-238734da3045"
      },
      "outputs": [
        {
          "output_type": "stream",
          "name": "stdout",
          "text": [
            "Model: \"sequential\"\n",
            "_________________________________________________________________\n",
            " Layer (type)                Output Shape              Param #   \n",
            "=================================================================\n",
            " embedding (Embedding)       (None, 8, 10)             100000    \n",
            "                                                                 \n",
            "=================================================================\n",
            "Total params: 100000 (390.62 KB)\n",
            "Trainable params: 100000 (390.62 KB)\n",
            "Non-trainable params: 0 (0.00 Byte)\n",
            "_________________________________________________________________\n"
          ]
        }
      ],
      "source": [
        "model.summary()"
      ]
    },
    {
      "cell_type": "code",
      "source": [
        "##'the glass of milk',\n",
        "embedded_docs[0]"
      ],
      "metadata": {
        "colab": {
          "base_uri": "https://localhost:8080/"
        },
        "id": "FC4Ess_FEcb3",
        "outputId": "b095a239-45ad-457a-c14e-b4b0b8bec47e"
      },
      "execution_count": 16,
      "outputs": [
        {
          "output_type": "execute_result",
          "data": {
            "text/plain": [
              "array([   0,    0,    0,    0, 1810, 2189, 8676, 6707], dtype=int32)"
            ]
          },
          "metadata": {},
          "execution_count": 16
        }
      ]
    },
    {
      "cell_type": "code",
      "source": [
        "model.predict(embedded_docs[0])"
      ],
      "metadata": {
        "colab": {
          "base_uri": "https://localhost:8080/"
        },
        "id": "bRqEvMBYEZUS",
        "outputId": "cf86998a-1740-499a-b995-ba08f698df16"
      },
      "execution_count": 17,
      "outputs": [
        {
          "output_type": "stream",
          "name": "stdout",
          "text": [
            "1/1 [==============================] - 0s 115ms/step\n"
          ]
        },
        {
          "output_type": "execute_result",
          "data": {
            "text/plain": [
              "array([[ 0.0308565 ,  0.03982483, -0.02580206, -0.02174062, -0.00244244,\n",
              "         0.01799867,  0.00308079,  0.04977972, -0.02635801,  0.00246835],\n",
              "       [ 0.0308565 ,  0.03982483, -0.02580206, -0.02174062, -0.00244244,\n",
              "         0.01799867,  0.00308079,  0.04977972, -0.02635801,  0.00246835],\n",
              "       [ 0.0308565 ,  0.03982483, -0.02580206, -0.02174062, -0.00244244,\n",
              "         0.01799867,  0.00308079,  0.04977972, -0.02635801,  0.00246835],\n",
              "       [ 0.0308565 ,  0.03982483, -0.02580206, -0.02174062, -0.00244244,\n",
              "         0.01799867,  0.00308079,  0.04977972, -0.02635801,  0.00246835],\n",
              "       [ 0.04108595, -0.0221459 ,  0.04308856,  0.04739568,  0.03680736,\n",
              "         0.03719309, -0.02266966,  0.04161551,  0.0110934 , -0.02898753],\n",
              "       [-0.04480777, -0.02635014,  0.04209166,  0.03727214,  0.00342407,\n",
              "         0.04578735,  0.02306142,  0.04100529,  0.01644159,  0.02198717],\n",
              "       [ 0.03672245,  0.03376115,  0.03822133,  0.03569874,  0.04336048,\n",
              "         0.04140604, -0.0190938 ,  0.04319039,  0.04963927, -0.0091884 ],\n",
              "       [ 0.0471532 , -0.04623225, -0.04963659, -0.00149538, -0.02156689,\n",
              "         0.02819895,  0.03376938,  0.01324796,  0.03972471, -0.01748923]],\n",
              "      dtype=float32)"
            ]
          },
          "metadata": {},
          "execution_count": 17
        }
      ]
    },
    {
      "cell_type": "markdown",
      "source": [
        "All the vector values in embedded_docs[0] are represented by 10 dimensions and the whole vector is represented by sentence length of 8"
      ],
      "metadata": {
        "id": "ElZCcTIxaU22"
      }
    },
    {
      "cell_type": "code",
      "execution_count": 18,
      "metadata": {
        "colab": {
          "base_uri": "https://localhost:8080/"
        },
        "id": "kzKP69gx0XGH",
        "outputId": "ee0e442f-1191-4397-aeb1-e02872fd9939"
      },
      "outputs": [
        {
          "output_type": "stream",
          "name": "stdout",
          "text": [
            "1/1 [==============================] - 0s 35ms/step\n",
            "[[[ 0.0308565   0.03982483 -0.02580206 -0.02174062 -0.00244244\n",
            "    0.01799867  0.00308079  0.04977972 -0.02635801  0.00246835]\n",
            "  [ 0.0308565   0.03982483 -0.02580206 -0.02174062 -0.00244244\n",
            "    0.01799867  0.00308079  0.04977972 -0.02635801  0.00246835]\n",
            "  [ 0.0308565   0.03982483 -0.02580206 -0.02174062 -0.00244244\n",
            "    0.01799867  0.00308079  0.04977972 -0.02635801  0.00246835]\n",
            "  [ 0.0308565   0.03982483 -0.02580206 -0.02174062 -0.00244244\n",
            "    0.01799867  0.00308079  0.04977972 -0.02635801  0.00246835]\n",
            "  [ 0.04108595 -0.0221459   0.04308856  0.04739568  0.03680736\n",
            "    0.03719309 -0.02266966  0.04161551  0.0110934  -0.02898753]\n",
            "  [-0.04480777 -0.02635014  0.04209166  0.03727214  0.00342407\n",
            "    0.04578735  0.02306142  0.04100529  0.01644159  0.02198717]\n",
            "  [ 0.03672245  0.03376115  0.03822133  0.03569874  0.04336048\n",
            "    0.04140604 -0.0190938   0.04319039  0.04963927 -0.0091884 ]\n",
            "  [ 0.0471532  -0.04623225 -0.04963659 -0.00149538 -0.02156689\n",
            "    0.02819895  0.03376938  0.01324796  0.03972471 -0.01748923]]\n",
            "\n",
            " [[ 0.0308565   0.03982483 -0.02580206 -0.02174062 -0.00244244\n",
            "    0.01799867  0.00308079  0.04977972 -0.02635801  0.00246835]\n",
            "  [ 0.0308565   0.03982483 -0.02580206 -0.02174062 -0.00244244\n",
            "    0.01799867  0.00308079  0.04977972 -0.02635801  0.00246835]\n",
            "  [ 0.0308565   0.03982483 -0.02580206 -0.02174062 -0.00244244\n",
            "    0.01799867  0.00308079  0.04977972 -0.02635801  0.00246835]\n",
            "  [ 0.0308565   0.03982483 -0.02580206 -0.02174062 -0.00244244\n",
            "    0.01799867  0.00308079  0.04977972 -0.02635801  0.00246835]\n",
            "  [ 0.04108595 -0.0221459   0.04308856  0.04739568  0.03680736\n",
            "    0.03719309 -0.02266966  0.04161551  0.0110934  -0.02898753]\n",
            "  [-0.04480777 -0.02635014  0.04209166  0.03727214  0.00342407\n",
            "    0.04578735  0.02306142  0.04100529  0.01644159  0.02198717]\n",
            "  [ 0.03672245  0.03376115  0.03822133  0.03569874  0.04336048\n",
            "    0.04140604 -0.0190938   0.04319039  0.04963927 -0.0091884 ]\n",
            "  [ 0.02586794  0.03472881 -0.02310878 -0.01671909  0.02102533\n",
            "    0.03269133  0.03875398 -0.01080917  0.00236863  0.04053989]]\n",
            "\n",
            " [[ 0.0308565   0.03982483 -0.02580206 -0.02174062 -0.00244244\n",
            "    0.01799867  0.00308079  0.04977972 -0.02635801  0.00246835]\n",
            "  [ 0.0308565   0.03982483 -0.02580206 -0.02174062 -0.00244244\n",
            "    0.01799867  0.00308079  0.04977972 -0.02635801  0.00246835]\n",
            "  [ 0.0308565   0.03982483 -0.02580206 -0.02174062 -0.00244244\n",
            "    0.01799867  0.00308079  0.04977972 -0.02635801  0.00246835]\n",
            "  [ 0.0308565   0.03982483 -0.02580206 -0.02174062 -0.00244244\n",
            "    0.01799867  0.00308079  0.04977972 -0.02635801  0.00246835]\n",
            "  [ 0.04108595 -0.0221459   0.04308856  0.04739568  0.03680736\n",
            "    0.03719309 -0.02266966  0.04161551  0.0110934  -0.02898753]\n",
            "  [-0.01671185  0.01232358 -0.01482045 -0.00836854  0.04526377\n",
            "    0.03321655 -0.00557373  0.00345286  0.02697238  0.00535055]\n",
            "  [ 0.03672245  0.03376115  0.03822133  0.03569874  0.04336048\n",
            "    0.04140604 -0.0190938   0.04319039  0.04963927 -0.0091884 ]\n",
            "  [ 0.0258383   0.03684287 -0.02052641 -0.03321149  0.01510249\n",
            "   -0.02373378 -0.00428083  0.02112151  0.01522062  0.03868221]]\n",
            "\n",
            " [[ 0.0308565   0.03982483 -0.02580206 -0.02174062 -0.00244244\n",
            "    0.01799867  0.00308079  0.04977972 -0.02635801  0.00246835]\n",
            "  [ 0.0308565   0.03982483 -0.02580206 -0.02174062 -0.00244244\n",
            "    0.01799867  0.00308079  0.04977972 -0.02635801  0.00246835]\n",
            "  [ 0.0308565   0.03982483 -0.02580206 -0.02174062 -0.00244244\n",
            "    0.01799867  0.00308079  0.04977972 -0.02635801  0.00246835]\n",
            "  [ 0.02680585  0.02063776 -0.01280709 -0.04224    -0.01476888\n",
            "    0.00923057  0.02336255  0.01304081 -0.02791095 -0.02575021]\n",
            "  [-0.00609465 -0.0122636  -0.00227616 -0.02700486 -0.03924881\n",
            "    0.00061051  0.01890766 -0.00058337 -0.02057531 -0.03566016]\n",
            "  [-0.01249098 -0.0135505   0.00133462  0.02593813  0.01435591\n",
            "   -0.0394739   0.01520522 -0.04549086 -0.03055532  0.02620361]\n",
            "  [-0.01639315 -0.00044047  0.01214118  0.00760559 -0.00771283\n",
            "    0.02006752  0.04792077 -0.04042296  0.04405519 -0.00441878]\n",
            "  [-0.03405602 -0.00466087 -0.0425346  -0.00783166  0.03467394\n",
            "   -0.00591667  0.00086583  0.01276423  0.01396919 -0.0155694 ]]\n",
            "\n",
            " [[ 0.0308565   0.03982483 -0.02580206 -0.02174062 -0.00244244\n",
            "    0.01799867  0.00308079  0.04977972 -0.02635801  0.00246835]\n",
            "  [ 0.0308565   0.03982483 -0.02580206 -0.02174062 -0.00244244\n",
            "    0.01799867  0.00308079  0.04977972 -0.02635801  0.00246835]\n",
            "  [ 0.0308565   0.03982483 -0.02580206 -0.02174062 -0.00244244\n",
            "    0.01799867  0.00308079  0.04977972 -0.02635801  0.00246835]\n",
            "  [ 0.02680585  0.02063776 -0.01280709 -0.04224    -0.01476888\n",
            "    0.00923057  0.02336255  0.01304081 -0.02791095 -0.02575021]\n",
            "  [-0.00609465 -0.0122636  -0.00227616 -0.02700486 -0.03924881\n",
            "    0.00061051  0.01890766 -0.00058337 -0.02057531 -0.03566016]\n",
            "  [-0.01249098 -0.0135505   0.00133462  0.02593813  0.01435591\n",
            "   -0.0394739   0.01520522 -0.04549086 -0.03055532  0.02620361]\n",
            "  [-0.01639315 -0.00044047  0.01214118  0.00760559 -0.00771283\n",
            "    0.02006752  0.04792077 -0.04042296  0.04405519 -0.00441878]\n",
            "  [ 0.03244759  0.00779842  0.01017063 -0.03873752 -0.04000489\n",
            "   -0.01750154  0.04120484  0.00928739 -0.02500303  0.02753835]]\n",
            "\n",
            " [[ 0.0308565   0.03982483 -0.02580206 -0.02174062 -0.00244244\n",
            "    0.01799867  0.00308079  0.04977972 -0.02635801  0.00246835]\n",
            "  [ 0.0308565   0.03982483 -0.02580206 -0.02174062 -0.00244244\n",
            "    0.01799867  0.00308079  0.04977972 -0.02635801  0.00246835]\n",
            "  [ 0.0308565   0.03982483 -0.02580206 -0.02174062 -0.00244244\n",
            "    0.01799867  0.00308079  0.04977972 -0.02635801  0.00246835]\n",
            "  [-0.04842608 -0.03868846 -0.00969278  0.01792144  0.00383891\n",
            "    0.03132303 -0.01741647 -0.00738116 -0.00901093  0.02713852]\n",
            "  [ 0.04108595 -0.0221459   0.04308856  0.04739568  0.03680736\n",
            "    0.03719309 -0.02266966  0.04161551  0.0110934  -0.02898753]\n",
            "  [-0.01032888  0.04930523 -0.01023849  0.0197649   0.01710917\n",
            "   -0.03044311 -0.01285168  0.01726507 -0.04876982  0.03980597]\n",
            "  [ 0.03672245  0.03376115  0.03822133  0.03569874  0.04336048\n",
            "    0.04140604 -0.0190938   0.04319039  0.04963927 -0.0091884 ]\n",
            "  [ 0.01043948  0.01366444  0.01636363  0.02570362 -0.00724562\n",
            "    0.02083491 -0.02741547  0.03963109 -0.04504296  0.02834747]]\n",
            "\n",
            " [[ 0.0308565   0.03982483 -0.02580206 -0.02174062 -0.00244244\n",
            "    0.01799867  0.00308079  0.04977972 -0.02635801  0.00246835]\n",
            "  [ 0.0308565   0.03982483 -0.02580206 -0.02174062 -0.00244244\n",
            "    0.01799867  0.00308079  0.04977972 -0.02635801  0.00246835]\n",
            "  [ 0.0308565   0.03982483 -0.02580206 -0.02174062 -0.00244244\n",
            "    0.01799867  0.00308079  0.04977972 -0.02635801  0.00246835]\n",
            "  [ 0.0308565   0.03982483 -0.02580206 -0.02174062 -0.00244244\n",
            "    0.01799867  0.00308079  0.04977972 -0.02635801  0.00246835]\n",
            "  [-0.02205401 -0.04514899 -0.03521527 -0.03321198  0.04276425\n",
            "    0.02127228  0.03016843 -0.02677375  0.00871751  0.03162095]\n",
            "  [ 0.04171361  0.02492442  0.00706663  0.03705445 -0.02699254\n",
            "    0.01349144 -0.03317456 -0.02010856  0.00700774 -0.03932072]\n",
            "  [-0.03608376  0.01353369  0.01016427  0.0342035  -0.01037573\n",
            "    0.01698701 -0.01834885 -0.03861415 -0.00078002 -0.04303428]\n",
            "  [-0.01639315 -0.00044047  0.01214118  0.00760559 -0.00771283\n",
            "    0.02006752  0.04792077 -0.04042296  0.04405519 -0.00441878]]]\n"
          ]
        }
      ],
      "source": [
        "print(model.predict(embedded_docs))"
      ]
    },
    {
      "cell_type": "code",
      "execution_count": null,
      "metadata": {
        "id": "8OMu3iAz0XGH"
      },
      "outputs": [],
      "source": [
        "### Assignment\n",
        "\n",
        "sent=[\"The world is a better place\",\n",
        "      \"Marvel series is my favourite movie\",\n",
        "      \"I like DC movies\",\n",
        "      \"the cat is eating the food\",\n",
        "      \"Tom and Jerry is my favourite movie\",\n",
        "      \"Python is my favourite programming language\"\n",
        "      ]"
      ]
    },
    {
      "cell_type": "code",
      "source": [],
      "metadata": {
        "id": "IfhJ01aAa3yc"
      },
      "execution_count": null,
      "outputs": []
    }
  ],
  "metadata": {
    "kernelspec": {
      "display_name": "Python 3",
      "name": "python3"
    },
    "language_info": {
      "codemirror_mode": {
        "name": "ipython",
        "version": 3
      },
      "file_extension": ".py",
      "mimetype": "text/x-python",
      "name": "python",
      "nbconvert_exporter": "python",
      "pygments_lexer": "ipython3",
      "version": "3.7.4"
    },
    "colab": {
      "provenance": [],
      "gpuType": "T4"
    },
    "accelerator": "GPU"
  },
  "nbformat": 4,
  "nbformat_minor": 0
}